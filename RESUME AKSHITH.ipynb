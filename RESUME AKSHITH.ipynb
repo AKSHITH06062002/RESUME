{
 "cells": [
  {
   "cell_type": "markdown",
   "id": "557def66",
   "metadata": {},
   "source": [
    "# <center>RESUME</center>"
   ]
  },
  {
   "cell_type": "markdown",
   "id": "2fa1495a",
   "metadata": {},
   "source": [
    "### akshith\n",
    "### vaxxxxxxxxxxxxud@gmail.com\n",
    "### 9573052265"
   ]
  },
  {
   "cell_type": "markdown",
   "id": "e12d78c7",
   "metadata": {},
   "source": [
    "## CAREER OBJECTIVE\n",
    "\n",
    "### iam looking for a job that gives me a platform , which will provide a good initialthurst to my professional career,skills and also to my inherent abilities."
   ]
  },
  {
   "cell_type": "markdown",
   "id": "5d84c594",
   "metadata": {},
   "source": [
    "## EDUCATION QUALIFICATION\n",
    "\n",
    "### 1) SSC from new life grammar high school, venkatapuram.\n",
    "### 2)intermediate from narayana college,alwal\n",
    "### 3)b.tech from hyderabad institute of technology and management,medchal"
   ]
  },
  {
   "cell_type": "markdown",
   "id": "d4f1eca7",
   "metadata": {},
   "source": [
    "## SKILLS\n",
    "### excel ,sql,tableu,highly organised,customer relation"
   ]
  },
  {
   "cell_type": "markdown",
   "id": "f9853a25",
   "metadata": {},
   "source": [
    "## key skills\n",
    "\n",
    "### 1) leadership skills\n",
    "### 2)communication\n",
    "### 3)team management\n",
    "### 4)schedule management"
   ]
  },
  {
   "cell_type": "markdown",
   "id": "3dfb8cc1",
   "metadata": {},
   "source": [
    "## HOBBIES AND INTRESTS\n",
    "### cricket ,movies,gym"
   ]
  },
  {
   "cell_type": "markdown",
   "id": "7239c534",
   "metadata": {},
   "source": [
    "## PERSONAL INFORMATION\n",
    "### name              :  akshithgoud\n",
    "### DOB                :  06-06-2002\n",
    "### gender            : male\n",
    "### father name    : v.gyneshwar goud\n",
    "### nationality       : indian\n",
    "### marital status  : unmarried\n",
    "### languages        :  english, hindi ,telugu\n",
    "### permanent add : 1-20-287,west venkatapuram\n"
   ]
  },
  {
   "cell_type": "markdown",
   "id": "42121e36",
   "metadata": {},
   "source": [
    "## DECLARATION\n",
    "\n",
    "### i do here by declae that the particular of information and facts stated here in above are true , correct and complete the best of my knowledge and belief"
   ]
  },
  {
   "cell_type": "markdown",
   "id": "fe7fa65e",
   "metadata": {},
   "source": [
    "## LINKS\n",
    "   [Github](https://github.com/AKSHITH06062002)\n",
    "    \n",
    "    \n",
    "   [Kaggle](https://www.kaggle.com/vakshith)"
   ]
  }
 ],
 "metadata": {
  "kernelspec": {
   "display_name": "Python 3 (ipykernel)",
   "language": "python",
   "name": "python3"
  },
  "language_info": {
   "codemirror_mode": {
    "name": "ipython",
    "version": 3
   },
   "file_extension": ".py",
   "mimetype": "text/x-python",
   "name": "python",
   "nbconvert_exporter": "python",
   "pygments_lexer": "ipython3",
   "version": "3.11.5"
  }
 },
 "nbformat": 4,
 "nbformat_minor": 5
}
